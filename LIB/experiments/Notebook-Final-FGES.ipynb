{
 "cells": [
  {
   "cell_type": "code",
   "execution_count": 6,
   "metadata": {},
   "outputs": [],
   "source": [
    "import networkx as nx\n",
    "import pandas as pd\n",
    "from pgmpy.estimators import ConstraintBasedEstimator\n",
    "from python.structure_learning.score_based.fges import fges\n",
    "from python.scores import *\n",
    "from python.ci_tests import *\n",
    "from python.discretize import *\n",
    "from python.bnutils import *\n",
    "import warnings\n",
    "warnings.filterwarnings(\"ignore\")"
   ]
  },
  {
   "cell_type": "code",
   "execution_count": 44,
   "metadata": {},
   "outputs": [],
   "source": [
    "######################################################   INPUT    ######################################################\n",
    "data = pd.read_pickle('/home/code-base/gitrepo/Mixed/python/mixed_data/70nodes103edges/data_0.gpickle')\n",
    "max_categories = 20\n",
    "disc = 'kmeans' #For univariate only(quantile(default), uniform, kmeans)\n",
    "bins = 5 #For univariate only(quantile(default), uniform, kmeans)\n",
    "score = bdeu_score #For hybrid only(bdeu_score, bic_score_discrete)\n",
    "result_score = bic_score_discrete\n",
    "custom = False  ## flag to specify type through cont_list or autoselect column types if false\n",
    "cont_columns = [] ## specify list of continuous columns here"
   ]
  },
  {
   "cell_type": "code",
   "execution_count": 45,
   "metadata": {},
   "outputs": [],
   "source": [
    "def runner(data):\n",
    "    \"\"\"Runner for different types of algo\n",
    "    \n",
    "    Returns:\n",
    "        dag : the result graph from the algo\n",
    "        data : discretized data\n",
    "        score of the graph\n",
    "    \"\"\"\n",
    "    ######################################################    DATA PREPROCESSING    ######################################################\n",
    "    nodes = []\n",
    "    args = nx.DiGraph()\n",
    "    mappers = column_mapping(data)\n",
    "    data.rename(columns=mappers[0], inplace=True)\n",
    "    args.add_nodes_from(list(data.columns))\n",
    "    if not custom:\n",
    "        for col in data.columns:\n",
    "            categories = len(pd.Series.unique(data[col]))\n",
    "            if(categories > max_categories):\n",
    "                args.nodes[col]['type'] = 'cont'\n",
    "                args.nodes[col]['num_categories'] = 'NA'\n",
    "            else:\n",
    "                args.nodes[col]['type'] = 'disc'\n",
    "                args.nodes[col]['num_categories'] = categories\n",
    "                data = data.replace({col: pd.unique(data[col])}, {col: list(range(pd.unique(data[col]).shape[0]))})        \n",
    "    else:\n",
    "        for col in data.columns:\n",
    "            categories = len(pd.Series.unique(data[col]))\n",
    "            if mappers[1][col] in cont_columns:\n",
    "                args.nodes[col]['type'] = 'cont'\n",
    "                args.nodes[col]['num_categories'] = 'NA'\n",
    "            else:\n",
    "                args.nodes[col]['type'] = 'disc'\n",
    "                args.nodes[col]['num_categories'] = categories\n",
    "                data = data.replace({col: pd.unique(data[col])}, {col: list(range(pd.unique(data[col]).shape[0]))})        \n",
    "                \n",
    "    CBE = ConstraintBasedEstimator(data)\n",
    "    \n",
    "    dag = fges(data, args.nodes(data=True), disc = disc, n_bins = bins, score = score)\n",
    "    data.rename(columns = mappers[1], inplace = True)\n",
    "    nx.relabel_nodes(dag, mappers[1], copy=False)\n",
    "    return (dag, data, result_score(dag, data))\n",
    "        "
   ]
  },
  {
   "cell_type": "code",
   "execution_count": null,
   "metadata": {},
   "outputs": [
    {
     "name": "stdout",
     "output_type": "stream",
     "text": [
      "Running FGES on graph with 70 nodes.\n"
     ]
    }
   ],
   "source": [
    "result = runner(data)"
   ]
  },
  {
   "cell_type": "code",
   "execution_count": null,
   "metadata": {},
   "outputs": [],
   "source": []
  }
 ],
 "metadata": {
  "kernelspec": {
   "display_name": "venv",
   "language": "python",
   "name": "venv"
  },
  "language_info": {
   "codemirror_mode": {
    "name": "ipython",
    "version": 3
   },
   "file_extension": ".py",
   "mimetype": "text/x-python",
   "name": "python",
   "nbconvert_exporter": "python",
   "pygments_lexer": "ipython3",
   "version": "3.8.3"
  }
 },
 "nbformat": 4,
 "nbformat_minor": 4
}
