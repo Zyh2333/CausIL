{
 "cells": [
  {
   "cell_type": "code",
   "execution_count": 6,
   "metadata": {},
   "outputs": [],
   "source": [
    "import networkx as nx\n",
    "import pandas as pd\n",
    "from pgmpy.estimators import ConstraintBasedEstimator\n",
    "from python.structure_learning.hybrid.mmhc import mmhc\n",
    "from python.scores import *\n",
    "from python.ci_tests import *\n",
    "from python.discretize import *\n",
    "from python.bnutils import *\n",
    "import warnings\n",
    "warnings.filterwarnings(\"ignore\")"
   ]
  },
  {
   "cell_type": "code",
   "execution_count": 2,
   "metadata": {},
   "outputs": [],
   "source": [
    "######################################################   INPUT    ######################################################\n",
    "data = pd.read_pickle('/home/code-base/gitrepo/Mixed/python/mixed_data/10nodes13edges/data_0.gpickle')\n",
    "max_categories = 20\n",
    "disc = 'quantile' #For univariate only(quantile(default), uniform, kmeans)\n",
    "bins = 5 #For univariate only(quantile(default), uniform, kmeans)\n",
    "alpha = 0.05 # (0.05 for PC, MMPC) (0.1 for MDEPCS only)\n",
    "ci_test = chi_square_test # fast_conditional_ind_test(default), chi_square_test\n",
    "verbose = False\n",
    "max_processes = 40\n",
    "discretizer = unsupervised_discretization #Data_Driven_Discretizer(For CAIM, LAIM, AMEVA), unsupervised_discretization\n",
    "score = bdeu_score #For hybrid only(bdeu_score, bic_score_discrete)\n",
    "result_score = bic_score_discrete\n",
    "custom = True  ## flag to specify type through cont_list or autoselect column types if false\n",
    "cont_columns = [] ## specify list of continuous columns here"
   ]
  },
  {
   "cell_type": "code",
   "execution_count": 3,
   "metadata": {},
   "outputs": [],
   "source": [
    "def runner(data):\n",
    "    \"\"\"Runner for different types of algo\n",
    "    \n",
    "    Returns:\n",
    "        dag : the result graph from the algo\n",
    "        data : discretized data\n",
    "        score of the graph\n",
    "    \"\"\"\n",
    "    ######################################################    DATA PREPROCESSING    ######################################################\n",
    "    \n",
    "    nodes = []\n",
    "    args = nx.DiGraph()\n",
    "    mappers = column_mapping(data)\n",
    "    data.rename(columns = mappers[0],inplace=True)\n",
    "    args.add_nodes_from(list(data.columns))\n",
    "    if not custom:\n",
    "        for col in data.columns:\n",
    "            categories = len(pd.Series.unique(data[col]))\n",
    "            if(categories > max_categories):\n",
    "                args.nodes[col]['type'] = 'cont'\n",
    "                args.nodes[col]['num_categories'] = 'NA'\n",
    "            else:\n",
    "                args.nodes[col]['type'] = 'disc'\n",
    "                args.nodes[col]['num_categories'] = categories\n",
    "                data = data.replace({col: pd.unique(data[col])}, {col: list(range(pd.unique(data[col]).shape[0]))})        \n",
    "    else:\n",
    "        for col in data.columns:\n",
    "            categories = len(pd.Series.unique(data[col]))\n",
    "            if mappers[1][col] in cont_columns:\n",
    "                args.nodes[col]['type'] = 'cont'\n",
    "                args.nodes[col]['num_categories'] = 'NA'\n",
    "            else:\n",
    "                args.nodes[col]['type'] = 'disc'\n",
    "                args.nodes[col]['num_categories'] = categories\n",
    "                data = data.replace({col: pd.unique(data[col])}, {col: list(range(pd.unique(data[col]).shape[0]))})        \n",
    "    \n",
    "    CBE = ConstraintBasedEstimator(data)\n",
    "    \n",
    "    data = discretizer(data, [node[0] for node in args.nodes(data=True) if node[1]['type'] == 'cont'], bins, disc)\n",
    "    dag = CBE.pdag_to_dag(mmhc(data, args.nodes(data=True), alpha, ci_test, verbose, score = score, max_process = max_processes))\n",
    "    data.rename(columns = mappers[1], inplace = True)\n",
    "    nx.relabel_nodes(dag, mappers[1], copy=False)\n",
    "    return (dag, data, result_score(dag, data))\n",
    "        "
   ]
  },
  {
   "cell_type": "code",
   "execution_count": 4,
   "metadata": {},
   "outputs": [],
   "source": [
    "result = runner(data)"
   ]
  },
  {
   "cell_type": "code",
   "execution_count": null,
   "metadata": {},
   "outputs": [],
   "source": []
  }
 ],
 "metadata": {
  "kernelspec": {
   "display_name": "venv",
   "language": "python",
   "name": "venv"
  },
  "language_info": {
   "codemirror_mode": {
    "name": "ipython",
    "version": 3
   },
   "file_extension": ".py",
   "mimetype": "text/x-python",
   "name": "python",
   "nbconvert_exporter": "python",
   "pygments_lexer": "ipython3",
   "version": "3.8.3"
  }
 },
 "nbformat": 4,
 "nbformat_minor": 4
}
